{
 "cells": [
  {
   "cell_type": "code",
   "execution_count": 1,
   "metadata": {},
   "outputs": [
    {
     "name": "stdout",
     "output_type": "stream",
     "text": [
      "········\n"
     ]
    }
   ],
   "source": [
    "import pymysql\n",
    "from sqlalchemy import create_engine\n",
    "import pandas as pd\n",
    "import getpass  # To get the password without showing the input\n",
    "password = getpass.getpass()"
   ]
  },
  {
   "cell_type": "code",
   "execution_count": 2,
   "metadata": {},
   "outputs": [],
   "source": [
    "connection_string = 'mysql+pymysql://root:' + password + '@localhost/bank'\n",
    "engine = create_engine(connection_string)\n",
    "# data = pd.read_sql_query('SELECT * FROM loan', engine)\n",
    "# data.head()"
   ]
  },
  {
   "cell_type": "code",
   "execution_count": 12,
   "metadata": {},
   "outputs": [
    {
     "data": {
      "text/html": [
       "<div>\n",
       "<style scoped>\n",
       "    .dataframe tbody tr th:only-of-type {\n",
       "        vertical-align: middle;\n",
       "    }\n",
       "\n",
       "    .dataframe tbody tr th {\n",
       "        vertical-align: top;\n",
       "    }\n",
       "\n",
       "    .dataframe thead th {\n",
       "        text-align: right;\n",
       "    }\n",
       "</style>\n",
       "<table border=\"1\" class=\"dataframe\">\n",
       "  <thead>\n",
       "    <tr style=\"text-align: right;\">\n",
       "      <th></th>\n",
       "      <th>film_id</th>\n",
       "      <th>length</th>\n",
       "      <th>rental_duration</th>\n",
       "      <th>rental_rate</th>\n",
       "      <th>rating</th>\n",
       "      <th>category_id</th>\n",
       "      <th>name</th>\n",
       "    </tr>\n",
       "  </thead>\n",
       "  <tbody>\n",
       "    <tr>\n",
       "      <th>0</th>\n",
       "      <td>19</td>\n",
       "      <td>113</td>\n",
       "      <td>6</td>\n",
       "      <td>0.99</td>\n",
       "      <td>PG</td>\n",
       "      <td>1</td>\n",
       "      <td>Action</td>\n",
       "    </tr>\n",
       "    <tr>\n",
       "      <th>1</th>\n",
       "      <td>21</td>\n",
       "      <td>129</td>\n",
       "      <td>3</td>\n",
       "      <td>4.99</td>\n",
       "      <td>R</td>\n",
       "      <td>1</td>\n",
       "      <td>Action</td>\n",
       "    </tr>\n",
       "    <tr>\n",
       "      <th>2</th>\n",
       "      <td>29</td>\n",
       "      <td>168</td>\n",
       "      <td>5</td>\n",
       "      <td>2.99</td>\n",
       "      <td>NC-17</td>\n",
       "      <td>1</td>\n",
       "      <td>Action</td>\n",
       "    </tr>\n",
       "    <tr>\n",
       "      <th>3</th>\n",
       "      <td>38</td>\n",
       "      <td>68</td>\n",
       "      <td>6</td>\n",
       "      <td>0.99</td>\n",
       "      <td>NC-17</td>\n",
       "      <td>1</td>\n",
       "      <td>Action</td>\n",
       "    </tr>\n",
       "    <tr>\n",
       "      <th>4</th>\n",
       "      <td>56</td>\n",
       "      <td>129</td>\n",
       "      <td>6</td>\n",
       "      <td>2.99</td>\n",
       "      <td>G</td>\n",
       "      <td>1</td>\n",
       "      <td>Action</td>\n",
       "    </tr>\n",
       "  </tbody>\n",
       "</table>\n",
       "</div>"
      ],
      "text/plain": [
       "   film_id  length  rental_duration  rental_rate rating  category_id    name\n",
       "0       19     113                6         0.99     PG            1  Action\n",
       "1       21     129                3         4.99      R            1  Action\n",
       "2       29     168                5         2.99  NC-17            1  Action\n",
       "3       38      68                6         0.99  NC-17            1  Action\n",
       "4       56     129                6         2.99      G            1  Action"
      ]
     },
     "execution_count": 12,
     "metadata": {},
     "output_type": "execute_result"
    }
   ],
   "source": [
    "query = '''select f.film_id, f.length, f.rental_duration, f.rental_rate, f.rating, c.category_id, c.name\n",
    "from sakila.category c\n",
    "join sakila.film_category fa on c.category_id = fa.category_id\n",
    "join sakila.film f on fa.film_id = f.film_id\n",
    "where c.category_id < 5;\n",
    "'''\n",
    "\n",
    "data = pd.read_sql_query(query, engine)\n",
    "data.head()"
   ]
  },
  {
   "cell_type": "code",
   "execution_count": 19,
   "metadata": {},
   "outputs": [
    {
     "data": {
      "text/plain": [
       "Animation    66\n",
       "Action       64\n",
       "Children     60\n",
       "Classics     57\n",
       "Name: name, dtype: int64"
      ]
     },
     "execution_count": 19,
     "metadata": {},
     "output_type": "execute_result"
    }
   ],
   "source": [
    "data['name'].value_counts()"
   ]
  },
  {
   "cell_type": "code",
   "execution_count": 20,
   "metadata": {},
   "outputs": [
    {
     "data": {
      "text/plain": [
       "(247, 7)"
      ]
     },
     "execution_count": 20,
     "metadata": {},
     "output_type": "execute_result"
    }
   ],
   "source": [
    "data.shape"
   ]
  },
  {
   "cell_type": "code",
   "execution_count": 21,
   "metadata": {},
   "outputs": [
    {
     "data": {
      "text/plain": [
       "film_id              int64\n",
       "length               int64\n",
       "rental_duration      int64\n",
       "rental_rate        float64\n",
       "rating              object\n",
       "category_id          int64\n",
       "name                object\n",
       "dtype: object"
      ]
     },
     "execution_count": 21,
     "metadata": {},
     "output_type": "execute_result"
    }
   ],
   "source": [
    "data.dtypes"
   ]
  },
  {
   "cell_type": "code",
   "execution_count": 22,
   "metadata": {},
   "outputs": [
    {
     "data": {
      "text/plain": [
       "film_id            0\n",
       "length             0\n",
       "rental_duration    0\n",
       "rental_rate        0\n",
       "rating             0\n",
       "category_id        0\n",
       "name               0\n",
       "dtype: int64"
      ]
     },
     "execution_count": 22,
     "metadata": {},
     "output_type": "execute_result"
    }
   ],
   "source": [
    "data.isna().sum()"
   ]
  },
  {
   "cell_type": "code",
   "execution_count": 28,
   "metadata": {},
   "outputs": [],
   "source": [
    "import numpy as np"
   ]
  },
  {
   "cell_type": "code",
   "execution_count": 29,
   "metadata": {},
   "outputs": [
    {
     "name": "stdout",
     "output_type": "stream",
     "text": [
      "    rating      name\n",
      "0       PG    Action\n",
      "1        R    Action\n",
      "2    NC-17    Action\n",
      "3    NC-17    Action\n",
      "4        G    Action\n",
      "..     ...       ...\n",
      "242  NC-17  Classics\n",
      "243     PG  Classics\n",
      "244  PG-13  Classics\n",
      "245     PG  Classics\n",
      "246  NC-17  Classics\n",
      "\n",
      "[247 rows x 2 columns]\n"
     ]
    }
   ],
   "source": [
    "x_cat = data.select_dtypes(include=np.object)\n",
    "print(x_cat)"
   ]
  },
  {
   "cell_type": "code",
   "execution_count": 30,
   "metadata": {},
   "outputs": [
    {
     "name": "stdout",
     "output_type": "stream",
     "text": [
      "     film_id  length  rental_duration  rental_rate  category_id\n",
      "0         19     113                6         0.99            1\n",
      "1         21     129                3         4.99            1\n",
      "2         29     168                5         2.99            1\n",
      "3         38      68                6         0.99            1\n",
      "4         56     129                6         2.99            1\n",
      "..       ...     ...              ...          ...          ...\n",
      "242      899     144                7         0.99            4\n",
      "243      950     132                7         4.99            4\n",
      "244      951      78                6         0.99            4\n",
      "245      962      85                7         2.99            4\n",
      "246      970      52                7         0.99            4\n",
      "\n",
      "[247 rows x 5 columns]\n"
     ]
    }
   ],
   "source": [
    "x_num = data.select_dtypes(include=np.number)\n",
    "print(x_num)"
   ]
  },
  {
   "cell_type": "code",
   "execution_count": 41,
   "metadata": {},
   "outputs": [],
   "source": [
    "#x_cat['film_id'] = x_num['film_id'].astype('category')"
   ]
  },
  {
   "cell_type": "code",
   "execution_count": 42,
   "metadata": {},
   "outputs": [],
   "source": [
    "#x_cat['film_id'] = x_cat['film_id'].cat.codes"
   ]
  },
  {
   "cell_type": "code",
   "execution_count": 43,
   "metadata": {},
   "outputs": [],
   "source": [
    "import matplotlib.pyplot as plt\n",
    "import seaborn as sns\n",
    "%matplotlib inline"
   ]
  },
  {
   "cell_type": "code",
   "execution_count": 44,
   "metadata": {},
   "outputs": [
    {
     "data": {
      "image/png": "[encoded data removed]",
      "text/plain": [
       "<Figure size 720x576 with 2 Axes>"
      ]
     },
     "metadata": {
      "needs_background": "light"
     },
     "output_type": "display_data"
    }
   ],
   "source": [
    "corr_matrix=data.corr(method='pearson')  # default\n",
    "fig, ax = plt.subplots(figsize=(10, 8))\n",
    "ax = sns.heatmap(corr_matrix, annot=True)\n",
    "plt.show()                                                #Q: does the correlation matrix only work on numericals? ehat is the use case"
   ]
  },
  {
   "cell_type": "code",
   "execution_count": 45,
   "metadata": {},
   "outputs": [
    {
     "name": "stderr",
     "output_type": "stream",
     "text": [
      "/Users/siljaloik/opt/anaconda3/lib/python3.8/site-packages/seaborn/distributions.py:2551: FutureWarning: `distplot` is a deprecated function and will be removed in a future version. Please adapt your code to use either `displot` (a figure-level function with similar flexibility) or `histplot` (an axes-level function for histograms).\n",
      "  warnings.warn(msg, FutureWarning)\n"
     ]
    },
    {
     "data": {
      "image/png": "[encoded data removed]",
      "text/plain": [
       "<Figure size 432x288 with 1 Axes>"
      ]
     },
     "metadata": {
      "needs_background": "light"
     },
     "output_type": "display_data"
    }
   ],
   "source": [
    "sns.distplot(data['film_id'])\n",
    "plt.show()"
   ]
  },
  {
   "cell_type": "code",
   "execution_count": 46,
   "metadata": {},
   "outputs": [
    {
     "name": "stderr",
     "output_type": "stream",
     "text": [
      "/Users/siljaloik/opt/anaconda3/lib/python3.8/site-packages/seaborn/distributions.py:2551: FutureWarning: `distplot` is a deprecated function and will be removed in a future version. Please adapt your code to use either `displot` (a figure-level function with similar flexibility) or `histplot` (an axes-level function for histograms).\n",
      "  warnings.warn(msg, FutureWarning)\n"
     ]
    },
    {
     "data": {
      "image/png": "[encoded data removed]",
      "text/plain": [
       "<Figure size 432x288 with 1 Axes>"
      ]
     },
     "metadata": {
      "needs_background": "light"
     },
     "output_type": "display_data"
    }
   ],
   "source": [
    "sns.distplot(data['length'])\n",
    "plt.show()"
   ]
  },
  {
   "cell_type": "code",
   "execution_count": 47,
   "metadata": {},
   "outputs": [
    {
     "name": "stderr",
     "output_type": "stream",
     "text": [
      "/Users/siljaloik/opt/anaconda3/lib/python3.8/site-packages/seaborn/distributions.py:2551: FutureWarning: `distplot` is a deprecated function and will be removed in a future version. Please adapt your code to use either `displot` (a figure-level function with similar flexibility) or `histplot` (an axes-level function for histograms).\n",
      "  warnings.warn(msg, FutureWarning)\n"
     ]
    },
    {
     "data": {
      "image/png": "[encoded data removed]",
      "text/plain": [
       "<Figure size 432x288 with 1 Axes>"
      ]
     },
     "metadata": {
      "needs_background": "light"
     },
     "output_type": "display_data"
    }
   ],
   "source": [
    "sns.distplot(data['rental_duration'])\n",
    "plt.show()"
   ]
  },
  {
   "cell_type": "code",
   "execution_count": 48,
   "metadata": {},
   "outputs": [
    {
     "name": "stderr",
     "output_type": "stream",
     "text": [
      "/Users/siljaloik/opt/anaconda3/lib/python3.8/site-packages/seaborn/distributions.py:2551: FutureWarning: `distplot` is a deprecated function and will be removed in a future version. Please adapt your code to use either `displot` (a figure-level function with similar flexibility) or `histplot` (an axes-level function for histograms).\n",
      "  warnings.warn(msg, FutureWarning)\n"
     ]
    },
    {
     "data": {
      "image/png": "[encoded data removed]",
      "text/plain": [
       "<Figure size 432x288 with 1 Axes>"
      ]
     },
     "metadata": {
      "needs_background": "light"
     },
     "output_type": "display_data"
    }
   ],
   "source": [
    "sns.distplot(data['rental_rate'])\n",
    "plt.show()"
   ]
  },
  {
   "cell_type": "code",
   "execution_count": null,
   "metadata": {},
   "outputs": [],
   "source": [
    "from sklearn.preprocessing import Normalizer\n",
    "# from sklearn.preprocessing import StandardScaler\n",
    "import numpy as np\n",
    "x = data.select_dtypes(include = np.number)"
   ]
  },
  {
   "cell_type": "code",
   "execution_count": 50,
   "metadata": {},
   "outputs": [],
   "source": [
    "from sklearn.preprocessing import Normalizer\n",
    "# from sklearn.preprocessing import StandardScaler\n",
    "import numpy as np\n",
    "x = data.select_dtypes(include = np.number)\n",
    "\n",
    "# Normalizing data\n",
    "transformer = Normalizer().fit(x)\n",
    "x_normalized = transformer.transform(x)\n",
    "x = pd.DataFrame(x_normalized)"
   ]
  },
  {
   "cell_type": "code",
   "execution_count": 51,
   "metadata": {},
   "outputs": [
    {
     "name": "stdout",
     "output_type": "stream",
     "text": [
      "            0         1         2         3         4\n",
      "0    0.165575  0.984734  0.052287  0.008627  0.008714\n",
      "1    0.160512  0.986001  0.022930  0.038141  0.007643\n",
      "2    0.170001  0.984834  0.029311  0.017528  0.005862\n",
      "3    0.486302  0.870224  0.076784  0.012669  0.012797\n",
      "4    0.397744  0.916232  0.042615  0.021237  0.007103\n",
      "..        ...       ...       ...       ...       ...\n",
      "242  0.987374  0.158156  0.007688  0.001087  0.004393\n",
      "243  0.990436  0.137618  0.007298  0.005202  0.004170\n",
      "244  0.996624  0.081742  0.006288  0.001037  0.004192\n",
      "245  0.996080  0.088011  0.007248  0.003096  0.004142\n",
      "246  0.998531  0.053530  0.007206  0.001019  0.004118\n",
      "\n",
      "[247 rows x 5 columns]\n"
     ]
    }
   ],
   "source": [
    "print(x)"
   ]
  },
  {
   "cell_type": "code",
   "execution_count": 57,
   "metadata": {},
   "outputs": [
    {
     "name": "stderr",
     "output_type": "stream",
     "text": [
      "/Users/siljaloik/opt/anaconda3/lib/python3.8/site-packages/seaborn/distributions.py:2551: FutureWarning: `distplot` is a deprecated function and will be removed in a future version. Please adapt your code to use either `displot` (a figure-level function with similar flexibility) or `histplot` (an axes-level function for histograms).\n",
      "  warnings.warn(msg, FutureWarning)\n"
     ]
    },
    {
     "data": {
      "image/png": "[encoded data removed]",
      "text/plain": [
       "<Figure size 432x288 with 1 Axes>"
      ]
     },
     "metadata": {
      "needs_background": "light"
     },
     "output_type": "display_data"
    }
   ],
   "source": [
    "sns.distplot(data['length'])\n",
    "plt.show()"
   ]
  },
  {
   "cell_type": "code",
   "execution_count": 58,
   "metadata": {},
   "outputs": [
    {
     "name": "stderr",
     "output_type": "stream",
     "text": [
      "/Users/siljaloik/opt/anaconda3/lib/python3.8/site-packages/seaborn/distributions.py:2551: FutureWarning: `distplot` is a deprecated function and will be removed in a future version. Please adapt your code to use either `displot` (a figure-level function with similar flexibility) or `histplot` (an axes-level function for histograms).\n",
      "  warnings.warn(msg, FutureWarning)\n"
     ]
    },
    {
     "data": {
      "image/png": "[encoded data removed]",
      "text/plain": [
       "<Figure size 432x288 with 1 Axes>"
      ]
     },
     "metadata": {
      "needs_background": "light"
     },
     "output_type": "display_data"
    }
   ],
   "source": [
    "sns.distplot(data['rental_duration'])\n",
    "plt.show()"
   ]
  },
  {
   "cell_type": "code",
   "execution_count": 59,
   "metadata": {},
   "outputs": [
    {
     "name": "stderr",
     "output_type": "stream",
     "text": [
      "/Users/siljaloik/opt/anaconda3/lib/python3.8/site-packages/seaborn/distributions.py:2551: FutureWarning: `distplot` is a deprecated function and will be removed in a future version. Please adapt your code to use either `displot` (a figure-level function with similar flexibility) or `histplot` (an axes-level function for histograms).\n",
      "  warnings.warn(msg, FutureWarning)\n"
     ]
    },
    {
     "data": {
      "image/png": "[encoded data removed]",
      "text/plain": [
       "<Figure size 432x288 with 1 Axes>"
      ]
     },
     "metadata": {
      "needs_background": "light"
     },
     "output_type": "display_data"
    }
   ],
   "source": [
    "sns.distplot(data['rental_rate'])\n",
    "plt.show()"
   ]
  },
  {
   "cell_type": "code",
   "execution_count": 52,
   "metadata": {},
   "outputs": [],
   "source": [
    "cat = x_cat\n",
    "cat = cat.drop(['name'], axis=1)\n",
    "categorical = pd.get_dummies(cat, columns=['rating'])"
   ]
  },
  {
   "cell_type": "code",
   "execution_count": 53,
   "metadata": {},
   "outputs": [
    {
     "name": "stdout",
     "output_type": "stream",
     "text": [
      "    film_id  rating_G  rating_NC-17  rating_PG  rating_PG-13  rating_R\n",
      "0        19         0             0          1             0         0\n",
      "1        21         0             0          0             0         1\n",
      "2        29         0             1          0             0         0\n",
      "3        38         0             1          0             0         0\n",
      "4        56         1             0          0             0         0\n",
      "..      ...       ...           ...        ...           ...       ...\n",
      "242     899         0             1          0             0         0\n",
      "243     950         0             0          1             0         0\n",
      "244     951         0             0          0             1         0\n",
      "245     962         0             0          1             0         0\n",
      "246     970         0             1          0             0         0\n",
      "\n",
      "[247 rows x 6 columns]\n"
     ]
    }
   ],
   "source": [
    "print(categorical)"
   ]
  },
  {
   "cell_type": "code",
   "execution_count": 54,
   "metadata": {},
   "outputs": [],
   "source": [
    "y = data['name']\n",
    "X = np.concatenate((x, categorical), axis=1)"
   ]
  },
  {
   "cell_type": "code",
   "execution_count": 55,
   "metadata": {},
   "outputs": [
    {
     "name": "stdout",
     "output_type": "stream",
     "text": [
      "0        Action\n",
      "1        Action\n",
      "2        Action\n",
      "3        Action\n",
      "4        Action\n",
      "         ...   \n",
      "242    Classics\n",
      "243    Classics\n",
      "244    Classics\n",
      "245    Classics\n",
      "246    Classics\n",
      "Name: name, Length: 247, dtype: object\n"
     ]
    }
   ],
   "source": [
    "print(y)"
   ]
  },
  {
   "cell_type": "code",
   "execution_count": 56,
   "metadata": {},
   "outputs": [
    {
     "name": "stdout",
     "output_type": "stream",
     "text": [
      "            0         1         2         3         4\n",
      "0    0.165575  0.984734  0.052287  0.008627  0.008714\n",
      "1    0.160512  0.986001  0.022930  0.038141  0.007643\n",
      "2    0.170001  0.984834  0.029311  0.017528  0.005862\n",
      "3    0.486302  0.870224  0.076784  0.012669  0.012797\n",
      "4    0.397744  0.916232  0.042615  0.021237  0.007103\n",
      "..        ...       ...       ...       ...       ...\n",
      "242  0.987374  0.158156  0.007688  0.001087  0.004393\n",
      "243  0.990436  0.137618  0.007298  0.005202  0.004170\n",
      "244  0.996624  0.081742  0.006288  0.001037  0.004192\n",
      "245  0.996080  0.088011  0.007248  0.003096  0.004142\n",
      "246  0.998531  0.053530  0.007206  0.001019  0.004118\n",
      "\n",
      "[247 rows x 5 columns]\n"
     ]
    }
   ],
   "source": [
    "print(x)"
   ]
  },
  {
   "cell_type": "code",
   "execution_count": 60,
   "metadata": {},
   "outputs": [],
   "source": [
    "from sklearn.model_selection import train_test_split\n",
    "X_train, X_test, y_train, y_test = train_test_split(X, y, test_size=0.4, random_state=100)"
   ]
  },
  {
   "cell_type": "code",
   "execution_count": 61,
   "metadata": {},
   "outputs": [
    {
     "name": "stderr",
     "output_type": "stream",
     "text": [
      "/Users/siljaloik/opt/anaconda3/lib/python3.8/site-packages/sklearn/linear_model/_logistic.py:762: ConvergenceWarning: lbfgs failed to converge (status=1):\n",
      "STOP: TOTAL NO. of ITERATIONS REACHED LIMIT.\n",
      "\n",
      "Increase the number of iterations (max_iter) or scale the data as shown in:\n",
      "    https://scikit-learn.org/stable/modules/preprocessing.html\n",
      "Please also refer to the documentation for alternative solver options:\n",
      "    https://scikit-learn.org/stable/modules/linear_model.html#logistic-regression\n",
      "  n_iter_i = _check_optimize_result(\n"
     ]
    }
   ],
   "source": [
    "from sklearn.linear_model import LogisticRegression\n",
    "classification = LogisticRegression(random_state=0, solver='lbfgs',\n",
    "                  multi_class='multinomial').fit(X_train, y_train)"
   ]
  },
  {
   "cell_type": "code",
   "execution_count": 62,
   "metadata": {},
   "outputs": [
    {
     "data": {
      "text/plain": [
       "0.21212121212121213"
      ]
     },
     "execution_count": 62,
     "metadata": {},
     "output_type": "execute_result"
    }
   ],
   "source": [
    "classification.score(X_test, y_test)"
   ]
  },
  {
   "cell_type": "code",
   "execution_count": 63,
   "metadata": {},
   "outputs": [
    {
     "data": {
      "text/plain": [
       "0.21212121212121213"
      ]
     },
     "execution_count": 63,
     "metadata": {},
     "output_type": "execute_result"
    }
   ],
   "source": [
    "predictions = classification.predict(X_test)\n",
    "classification.score(X_test, y_test)"
   ]
  },
  {
   "cell_type": "code",
   "execution_count": 64,
   "metadata": {},
   "outputs": [
    {
     "data": {
      "text/plain": [
       "Action       46\n",
       "Animation    42\n",
       "Children     11\n",
       "dtype: int64"
      ]
     },
     "execution_count": 64,
     "metadata": {},
     "output_type": "execute_result"
    }
   ],
   "source": [
    "pd.Series(predictions).value_counts()"
   ]
  },
  {
   "cell_type": "code",
   "execution_count": 65,
   "metadata": {},
   "outputs": [
    {
     "data": {
      "text/plain": [
       "Classics     28\n",
       "Animation    25\n",
       "Action       24\n",
       "Children     22\n",
       "Name: name, dtype: int64"
      ]
     },
     "execution_count": 65,
     "metadata": {},
     "output_type": "execute_result"
    }
   ],
   "source": [
    "y_test.value_counts()"
   ]
  },
  {
   "cell_type": "code",
   "execution_count": 66,
   "metadata": {},
   "outputs": [
    {
     "data": {
      "text/plain": [
       "array([[11, 12,  1,  0],\n",
       "       [12,  8,  5,  0],\n",
       "       [ 8, 12,  2,  0],\n",
       "       [15, 10,  3,  0]])"
      ]
     },
     "execution_count": 66,
     "metadata": {},
     "output_type": "execute_result"
    }
   ],
   "source": [
    "from sklearn.metrics import confusion_matrix\n",
    "confusion_matrix(y_test, predictions)"
   ]
  },
  {
   "cell_type": "code",
   "execution_count": 67,
   "metadata": {},
   "outputs": [
    {
     "data": {
      "text/plain": [
       "array([[0.48240541, 0.12770835, 0.23904442, 0.15084181],\n",
       "       [0.18379964, 0.25507892, 0.32215819, 0.23896325],\n",
       "       [0.47276479, 0.14491268, 0.22483021, 0.15749232],\n",
       "       [0.19777838, 0.29917501, 0.28042851, 0.22261809],\n",
       "       [0.27461741, 0.29632198, 0.27071109, 0.15834953],\n",
       "       [0.37720437, 0.22433378, 0.19289813, 0.20556372],\n",
       "       [0.41226549, 0.23629272, 0.17573343, 0.17570836],\n",
       "       [0.2078141 , 0.33597298, 0.24851855, 0.20769437],\n",
       "       [0.19560957, 0.31919357, 0.27085901, 0.21433786],\n",
       "       [0.20675179, 0.4008497 , 0.22833518, 0.16406334],\n",
       "       [0.19157424, 0.27183691, 0.30643084, 0.23015801],\n",
       "       [0.41296046, 0.15690475, 0.2307022 , 0.1994326 ],\n",
       "       [0.44253741, 0.17306107, 0.20531398, 0.17908754],\n",
       "       [0.34920497, 0.1887165 , 0.23196852, 0.23011001],\n",
       "       [0.38903274, 0.14990507, 0.24366227, 0.21739992],\n",
       "       [0.17034588, 0.33017838, 0.28518214, 0.2142936 ],\n",
       "       [0.44445792, 0.25339656, 0.15284449, 0.14930103],\n",
       "       [0.42283385, 0.16406788, 0.22011942, 0.19297885],\n",
       "       [0.44198514, 0.15062746, 0.230102  , 0.1772854 ],\n",
       "       [0.25340227, 0.28185868, 0.29880445, 0.1659346 ],\n",
       "       [0.19581843, 0.29719493, 0.28186327, 0.22512337],\n",
       "       [0.19930236, 0.30646237, 0.27380204, 0.22043324],\n",
       "       [0.22253043, 0.35617683, 0.23246305, 0.18882969],\n",
       "       [0.36011734, 0.20252512, 0.21616655, 0.22119099],\n",
       "       [0.185039  , 0.26187935, 0.31509889, 0.23798276],\n",
       "       [0.42153274, 0.157007  , 0.22865714, 0.19280313],\n",
       "       [0.21365475, 0.31689888, 0.27489377, 0.1945526 ],\n",
       "       [0.18315574, 0.365866  , 0.25646633, 0.19451194],\n",
       "       [0.21050507, 0.34151119, 0.24410654, 0.2038772 ],\n",
       "       [0.20268293, 0.4011439 , 0.2284511 , 0.16772207],\n",
       "       [0.2396351 , 0.35807784, 0.25454044, 0.14774661],\n",
       "       [0.19411795, 0.29586032, 0.29291611, 0.21710561],\n",
       "       [0.26406605, 0.33099135, 0.24571173, 0.15923087],\n",
       "       [0.39162639, 0.22197208, 0.19282023, 0.1935813 ],\n",
       "       [0.40034031, 0.24332251, 0.17249056, 0.18384663],\n",
       "       [0.40073302, 0.15444892, 0.23606392, 0.20875414],\n",
       "       [0.41388407, 0.26547408, 0.15214053, 0.16850132],\n",
       "       [0.18407407, 0.27193752, 0.31479565, 0.22919275],\n",
       "       [0.17118027, 0.33607681, 0.2799658 , 0.21277712],\n",
       "       [0.20496452, 0.31510636, 0.26677511, 0.21315401],\n",
       "       [0.16596703, 0.30878544, 0.30423053, 0.22101701],\n",
       "       [0.40057528, 0.15133392, 0.24005356, 0.20803724],\n",
       "       [0.40725975, 0.15707914, 0.23166087, 0.20400024],\n",
       "       [0.34620302, 0.11615338, 0.29911172, 0.23853188],\n",
       "       [0.4397608 , 0.23607928, 0.16787806, 0.15628186],\n",
       "       [0.1807379 , 0.38826897, 0.23728829, 0.19370484],\n",
       "       [0.21919354, 0.32714432, 0.2655639 , 0.18809824],\n",
       "       [0.1947923 , 0.28733663, 0.30153911, 0.21633196],\n",
       "       [0.3338828 , 0.11000123, 0.31073843, 0.24537754],\n",
       "       [0.4094954 , 0.24112103, 0.17236391, 0.17701966],\n",
       "       [0.17632526, 0.35025881, 0.26861919, 0.20479673],\n",
       "       [0.35841405, 0.1989195 , 0.22013475, 0.2225317 ],\n",
       "       [0.20759685, 0.3096929 , 0.27214409, 0.21056616],\n",
       "       [0.22448189, 0.35157158, 0.23622037, 0.18772616],\n",
       "       [0.17164385, 0.33334689, 0.28263791, 0.21237135],\n",
       "       [0.39825362, 0.22325228, 0.19029706, 0.18819704],\n",
       "       [0.4071302 , 0.26271282, 0.15562781, 0.17452917],\n",
       "       [0.16472995, 0.30465871, 0.3078634 , 0.22274794],\n",
       "       [0.35302922, 0.1187677 , 0.29411096, 0.23409212],\n",
       "       [0.43479127, 0.15133536, 0.23158089, 0.18229248],\n",
       "       [0.35619859, 0.12173287, 0.28888239, 0.23318614],\n",
       "       [0.19855489, 0.31148323, 0.27870988, 0.211252  ],\n",
       "       [0.34566577, 0.11786233, 0.29613816, 0.24033374],\n",
       "       [0.33098355, 0.10948936, 0.31175044, 0.24777664],\n",
       "       [0.21586412, 0.40424998, 0.22435146, 0.15553444],\n",
       "       [0.23669114, 0.35657572, 0.23110601, 0.17562713],\n",
       "       [0.39968771, 0.15316427, 0.23787613, 0.2092719 ],\n",
       "       [0.41246524, 0.2494368 , 0.16490359, 0.17319438],\n",
       "       [0.18268096, 0.27795632, 0.30789281, 0.23146992],\n",
       "       [0.18615763, 0.27692669, 0.29932992, 0.23758576],\n",
       "       [0.16662395, 0.22811176, 0.3582145 , 0.24704979],\n",
       "       [0.18513001, 0.36121965, 0.26071626, 0.19293407],\n",
       "       [0.2260098 , 0.36672012, 0.22387406, 0.18339602],\n",
       "       [0.18639969, 0.38580406, 0.24028659, 0.18750966],\n",
       "       [0.3972609 , 0.24927859, 0.16815455, 0.18530597],\n",
       "       [0.20723676, 0.33057879, 0.26234388, 0.19984057],\n",
       "       [0.20235705, 0.43400413, 0.20344893, 0.16018989],\n",
       "       [0.18616821, 0.3789358 , 0.24593503, 0.18896096],\n",
       "       [0.42214002, 0.26316866, 0.15194238, 0.16274894],\n",
       "       [0.45402189, 0.16795249, 0.20726978, 0.17075584],\n",
       "       [0.20458488, 0.42068922, 0.21327079, 0.16145511],\n",
       "       [0.25391347, 0.34053609, 0.24080038, 0.16475006],\n",
       "       [0.35318207, 0.1870561 , 0.23358364, 0.22617819],\n",
       "       [0.40757387, 0.24656597, 0.16831805, 0.17754211],\n",
       "       [0.41788647, 0.16007971, 0.22588214, 0.19615167],\n",
       "       [0.1740768 , 0.34481832, 0.27289992, 0.20820496],\n",
       "       [0.18913736, 0.29632273, 0.29115019, 0.22338973],\n",
       "       [0.21278081, 0.3607354 , 0.22824142, 0.19824238],\n",
       "       [0.41641042, 0.15845138, 0.2281292 , 0.19700901],\n",
       "       [0.43266613, 0.23399428, 0.17187781, 0.16146178],\n",
       "       [0.48325542, 0.12361697, 0.24303312, 0.15009449],\n",
       "       [0.39896265, 0.14202503, 0.25249758, 0.20651474],\n",
       "       [0.22739221, 0.37700341, 0.21571755, 0.17988682],\n",
       "       [0.41777508, 0.24632431, 0.16612834, 0.16977226],\n",
       "       [0.17938912, 0.26289055, 0.32298532, 0.234735  ],\n",
       "       [0.21181704, 0.34500082, 0.24126001, 0.20192213],\n",
       "       [0.21124999, 0.39888972, 0.22930748, 0.16055281],\n",
       "       [0.37043825, 0.12810184, 0.27721991, 0.22424   ],\n",
       "       [0.41798934, 0.16027629, 0.2256194 , 0.19611497]])"
      ]
     },
     "execution_count": 67,
     "metadata": {},
     "output_type": "execute_result"
    }
   ],
   "source": [
    "classification.predict_proba(X_test)"
   ]
  },
  {
   "cell_type": "code",
   "execution_count": null,
   "metadata": {},
   "outputs": [],
   "source": []
  }
 ],
 "metadata": {
  "kernelspec": {
   "display_name": "Python 3",
   "language": "python",
   "name": "python3"
  },
  "language_info": {
   "codemirror_mode": {
    "name": "ipython",
    "version": 3
   },
   "file_extension": ".py",
   "mimetype": "text/x-python",
   "name": "python",
   "nbconvert_exporter": "python",
   "pygments_lexer": "ipython3",
   "version": "3.8.5"
  }
 },
 "nbformat": 4,
 "nbformat_minor": 4
}
